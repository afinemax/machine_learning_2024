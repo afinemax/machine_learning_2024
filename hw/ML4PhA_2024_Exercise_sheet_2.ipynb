{
  "cells": [
    {
      "cell_type": "markdown",
      "metadata": {
        "id": "S2YQld0A97U2"
      },
      "source": [
        "# **Problem set 2** - Machine Learning for Physics and Astronomy 2023/2024, UvA\n",
        "---\n",
        "\n",
        "\n"
      ]
    },
    {
      "cell_type": "markdown",
      "metadata": {
        "id": "05SH0OyWRMle"
      },
      "source": [
        "- The total sheet gives 26 points\n",
        "- Deadline for submitting your results is **Wed 17/04/2024, 23:59**\n",
        "- **IMPORTANT**: Specify if/how AI was used to solve the exercises by filling the corresponding \"Usage of AI\" comments. Anything between \"No\" (if applicable) and a short paragraph reflecting how AI was used is fine. Failing to do so faithfully will result in the substraction of points.\n",
        "\n",
        "### **Maxwell A. Fine**\n",
        "### **14880725**"
      ]
    },
    {
      "cell_type": "markdown",
      "metadata": {
        "id": "EoCJxznVUVlR"
      },
      "source": [
        "## Chapter 3: Inference and Bayes nets (16 points)"
      ]
    },
    {
      "cell_type": "markdown",
      "metadata": {
        "id": "0hwLud_5YOwj"
      },
      "source": [
        "*Topics: Inverse transform sampling*\n",
        "\n",
        "**Reading material: Murphy 23.2.1**"
      ]
    },
    {
      "cell_type": "markdown",
      "metadata": {
        "id": "SVBfLKDYUTeg"
      },
      "source": [
        "### 3.1 Inverse Sampling (2 points)"
      ]
    },
    {
      "cell_type": "markdown",
      "metadata": {
        "id": "0nJh42SnUaVY"
      },
      "source": [
        "(2 points) Consider the target exponential pdf $p(x)=\\lambda e^{-\\lambda x}$, where $\\lambda$ is the rate parameter. Define a function that, using the inverse transform method, generates samples from the exponential distribution.\n",
        "\n",
        "Choosing $\\lambda =0.5$ and a sample size of $1000$, plot the histogram of the sampled data and overlay the theoretical exponential distribution curve on top.\n",
        "\n",
        "Hint: You will need to use the function `np.random.uniform`"
      ]
    },
    {
      "cell_type": "code",
      "execution_count": 1,
      "metadata": {
        "id": "ZbeQBlh0W2BD"
      },
      "outputs": [],
      "source": [
        "import numpy as np\n",
        "import matplotlib.pyplot as plt\n",
        "\n",
        "def inverse_transform(rate, sample_size):\n",
        "  \"\"\"\n",
        "    Generate random samples from an exponential distribution using the inverse transform method.\n",
        "\n",
        "    Parameters:\n",
        "    rate (float): The rate parameter (λ) of the exponential distribution.\n",
        "    sample_size (int): The number of samples to generate.\n",
        "\n",
        "    Returns:\n",
        "    numpy.ndarray: An array containing random samples drawn from the exponential distribution.\n",
        "\n",
        "    Explanation:\n",
        "    This function generates random samples from an exponential distribution with the specified rate parameter \n",
        "    using the inverse transform method. \n",
        "    It computes the cumulative distribution function (CDF) analytically, \n",
        "    then generates samples by transforming uniform random variables into the \n",
        "    corresponding quantiles of the exponential distribution.\n",
        "    \n",
        "    Algorithm:\n",
        "    1. Generate a range of values for x_arr from 0 to 7/rate, representing the decay times.\n",
        "    2. Compute the cumulative distribution function (CDF) using the formula: 1 - exp(-rate * x_arr).\n",
        "    3. Generate 'sample_size' random samples by selecting the closest x_arr value corresponding\n",
        "    to a uniformly distributed random number between 0 and 1 of the CDF.\n",
        "    4. Return the generated samples.\n",
        "  \"\"\"\n",
        "  # how to define x_arr so it works\n",
        "  # I am assuming x is only positive  \n",
        "\n",
        "  x_arr = np.linspace(0, 7/rate, 3*sample_size) # goes from 0, to 7 decay times\n",
        "  # now make cdf integrating from 0 to x, this is analyitical \n",
        "  cdf = 1 - np.exp(-rate*x_arr)\n",
        "\n",
        "  samples = np.zeros(sample_size)\n",
        "  for i in range(sample_size): # TODO  not sure if I can get rid of the forloop\n",
        "    uniform_sample = np.random.uniform() # between 0-1\n",
        "    # the unfirom sample corresponds to our CDF\n",
        "    # we want the closest cdf, and then our random sample is that x_arr value\n",
        "    index_val = np.argmin(np.abs(uniform_sample - cdf))\n",
        "    samples[i] = x_arr[index_val]\n",
        "    \n",
        "  return samples\n"
      ]
    },
    {
      "cell_type": "code",
      "execution_count": 2,
      "metadata": {},
      "outputs": [
        {
          "data": {
            "text/plain": [
              "Text(0.5, 1.0, 'Sampled data vs Theoretical PDF')"
            ]
          },
          "execution_count": 2,
          "metadata": {},
          "output_type": "execute_result"
        },
        {
          "data": {
            "image/png": "[encoded data removed]",
            "text/plain": [
              "<Figure size 640x480 with 1 Axes>"
            ]
          },
          "metadata": {},
          "output_type": "display_data"
        }
      ],
      "source": [
        "# generate samples and pdf\n",
        "rate = 0.5\n",
        "sample_size = 1000\n",
        "samples = inverse_transform(rate, sample_size)\n",
        "x_arr = np.linspace(0, 7/rate, sample_size)\n",
        "pdf = rate*np.exp(-rate*x_arr)\n",
        "\n",
        "# plot\n",
        "plt.plot(x_arr, pdf, color='k', linestyle='--', linewidth=3, label ='True PDF')\n",
        "hist, bins, patches = plt.hist(samples, bins=int(np.sqrt(sample_size)), density=True, color='green', label='Inverse Sampling')\n",
        "plt.xlabel('X', fontsize=15)\n",
        "plt.ylabel('PDF', size=15)\n",
        "plt.legend()\n",
        "plt.title('Sampled data vs Theoretical PDF', size=15)\n",
        "\n",
        "# I could add errbars for each bin with sqrt(n) for that bin (each bin is a poisson distrubution)"
      ]
    },
    {
      "cell_type": "markdown",
      "metadata": {
        "id": "v66ewHPkXLEH"
      },
      "source": [
        "Usage of AI: AI used to write function doc string"
      ]
    },
    {
      "cell_type": "markdown",
      "metadata": {
        "id": "C8vBFHv0RL4m"
      },
      "source": [
        "### 3.2 Metropolis Hastings & credible intervals (10 points)\n",
        "\n"
      ]
    },
    {
      "cell_type": "markdown",
      "metadata": {
        "id": "mDJu4y_mUhpH"
      },
      "source": [
        "*Topics: Multivariate normal, Metropolis Hastings and marginal distributionsm Credible intervals, Highest posterior density region*\n",
        "\n",
        "**Reading material: Murphy 5.2.2, 5.2.2.1, 24.3**\n",
        "\n",
        "We will explore a 2-dim and bimodal probability density function."
      ]
    },
    {
      "cell_type": "code",
      "execution_count": 3,
      "metadata": {
        "id": "ms-mRNnIUeke"
      },
      "outputs": [],
      "source": [
        "# provided\n",
        "\n",
        "# The likelihood function is given\n",
        "\n",
        "def pdf_bimodal(x):\n",
        "    \"\"\"Bimodal pdf\"\"\"\n",
        "    sigma1 = 1.0\n",
        "    sigma2 = 0.5\n",
        "    pdf = 0.5/(np.sqrt(2*np.pi*sigma1**2))*np.exp(-0.5*((x-1.5)**2).sum()/sigma1**2)  +  0.5/(np.sqrt(2*np.pi*sigma2**2))*np.exp(-0.5*((x+1.0)**2).sum()/sigma2**2)\n",
        "    return pdf\n"
      ]
    },
    {
      "cell_type": "markdown",
      "metadata": {
        "id": "YZ3gWf2fsa9_"
      },
      "source": [
        "1. Write your own Metropolish Hastings algorithm. (4 points)\n",
        "\n",
        "- The proposal distribution is supposed to be a $D=2$ dimensional isotropic Gaussian with variance $\\sigma^2$.\n",
        "- Given some pdf, the algorithm should produce and return a given number of chain points $N$, starting with some initial vector $\\mathbf{x}_0$. The result should be returned as a $N\\times D$ array.\n",
        "- The algorithm should also evaluate and print the acceptance rate (fraction of accepted transitions over total number of steps).\n",
        "\n",
        "Hints: Use `np.random.randn`, `np.random.rand`, `np.array` where appropriate. Write the algorithm such that it works for any dimensions of $\\mathbf{x}_0$."
      ]
    },
    {
      "cell_type": "code",
      "execution_count": 4,
      "metadata": {
        "id": "yDVjKBXBaZ-e"
      },
      "outputs": [],
      "source": [
        "def sample_from_2d_gaussian(mean=0, sigma=1):\n",
        "    x = np.random.normal(mean, sigma)\n",
        "    y = np.random.normal(mean, sigma)\n",
        "    return np.asarray([x, y])\n",
        "\n",
        "def MetropolisHastings(pdf, N, x_init, sigma):\n",
        "\n",
        "    D = len(x_init) # dimensions \n",
        "    theta_current = x_init \n",
        "    total_attempts = 0\n",
        "    samples_chain = np.zeros((N, D))  # Array to store samples\n",
        "\n",
        "    # start\n",
        "    for i in range(N):\n",
        "\n",
        "        # make as many attempts needed until a accepted chain value happens\n",
        "        accepted = False\n",
        "        while accepted == False: \n",
        "            total_attempts += 1\n",
        "            # proposal \n",
        "            theta_proposed = theta_current + sample_from_2d_gaussian(mean=0, sigma=sigma)\n",
        "\n",
        "            # calculate acceptence ratio\n",
        "            acceptance_ratio = min(1, pdf(theta_proposed) / pdf(theta_current))\n",
        "\n",
        "            # Accept or reject the proposal\n",
        "            if np.random.rand() < acceptance_ratio:\n",
        "                theta_current = theta_proposed\n",
        "                \n",
        "                samples_chain[i,:] = theta_current\n",
        "                accepted = True \n",
        "    \n",
        "    acceptance_rate = N / total_attempts\n",
        "    print(\"Acceptance Rate:\", acceptance_rate)\n",
        "\n",
        "    return samples_chain"
      ]
    },
    {
      "cell_type": "markdown",
      "metadata": {
        "id": "FY5d0KFQZeA5"
      },
      "source": [
        "2. Explore the above bimodal distribution. (3 points)\n",
        "- Show resulting chain for $N=10000$ and for five proposal widths in the range $\\sigma \\in [0.01, 100.]$.  \n",
        "- Based on the acceptance rate and visual inspection of the result, argue what parameters work here best.\n",
        "- What are the problems with too low or too high values of $\\sigma$?\n",
        "- Also discuss what happens when you start with initial values far away from the optimum. This initial phase is called \"burn in phase\".\n",
        "\n",
        "Hints: use `plt.scatter`"
      ]
    },
    {
      "cell_type": "code",
      "execution_count": 5,
      "metadata": {
        "id": "kRExc3L6WqpP"
      },
      "outputs": [
        {
          "name": "stdout",
          "output_type": "stream",
          "text": [
            "Acceptance Rate: 0.9919650828290845\n",
            "Acceptance Rate: 0.003726014249023691\n",
            "Acceptance Rate: 0.0009435300118497934\n",
            "Acceptance Rate: 0.00041786306084274207\n",
            "Acceptance Rate: 0.00023239563013482503\n"
          ]
        }
      ],
      "source": [
        "# run walkers\n",
        "N = 10000\n",
        "sigma_arr = np.linspace(0.01, 100, 5)\n",
        "pdf = pdf_bimodal\n",
        "x_init = np.asarray([0,0])\n",
        "\n",
        "samples_chain_list = []\n",
        "for sigma in sigma_arr:\n",
        "    samples_chain_i = MetropolisHastings(pdf, N, x_init, sigma)\n",
        "    samples_chain_list.append(samples_chain_i)"
      ]
    },
    {
      "cell_type": "code",
      "execution_count": 6,
      "metadata": {},
      "outputs": [
        {
          "name": "stdout",
          "output_type": "stream",
          "text": [
            "0\n",
            "1\n"
          ]
        }
      ],
      "source": [
        "for i in range(2):\n",
        "    print(i)"
      ]
    },
    {
      "cell_type": "code",
      "execution_count": 11,
      "metadata": {},
      "outputs": [
        {
          "data": {
            "image/png": "[encoded data removed]",
            "text/plain": [
              "<Figure size 1200x600 with 2 Axes>"
            ]
          },
          "metadata": {},
          "output_type": "display_data"
        }
      ],
      "source": [
        "# Set figure size for wider subplots\n",
        "fig, axs = plt.subplots(1, 2, figsize=(12, 6), sharey=True)\n",
        "\n",
        "# plot\n",
        "colors = ['#D81B60', '#FFC107']\n",
        "# Assuming len(samples_chain_list) is always 2\n",
        "for i in range(len(samples_chain_list)):\n",
        "    for j in range(2):\n",
        "        axs[j].hist(samples_chain_list[i][:,j], density=True, bins=100, alpha=0.3, label='sigma = ' + str(sigma_arr[i])[0:4])\n",
        "        axs[j].set_xlabel('Dimension = ' + str(j), fontsize=15)\n",
        "        axs[j].set_ylabel('PDF', fontsize=15)\n",
        "        axs[j].set_title('Dimension = ' + str(j), fontsize=15)\n",
        "        axs[j].legend()\n",
        "\n",
        "# Adjust layout to prevent overlap\n",
        "plt.tight_layout()\n",
        "plt.show()"
      ]
    },
    {
      "cell_type": "markdown",
      "metadata": {
        "id": "d8un8O9EZ2rD"
      },
      "source": [
        "3. Compare your results with the true distribution using 1-dim histograms (both in $x_1$ and $x_2$ direction) (3 points)\n",
        "\n",
        "- Discuss qualitatively whether the true distribution can be recovered for reasonable values of $\\sigma$.\n",
        "- Again, what happens if $\\sigma$ is too large or too small?  Is what you see supporting your observations in the previous question?\n",
        "- Define a function to generate the one dimensional highest posterior density intervals (HPDI) for both parameters at a certain credible level of a given probability density function. Then, calculate the HPDI for the given bimodal distribution at a $68.5\\%$ credible level and plot your results.\n",
        "\n",
        "Note: you have to write your own marginal distributions for `pdf_bimodal`, projected either on `x1` or on `x2` (do these two marginals differ in our case?).\n",
        "\n",
        "Hints: use `plt.hist` with 100 bins and `density = True`"
      ]
    },
    {
      "cell_type": "code",
      "execution_count": 8,
      "metadata": {},
      "outputs": [
        {
          "data": {
            "text/plain": [
              "0.0283309862449072"
            ]
          },
          "execution_count": 8,
          "metadata": {},
          "output_type": "execute_result"
        }
      ],
      "source": [
        "pdf_bimodal(np.asarray([0, 0]))"
      ]
    },
    {
      "cell_type": "code",
      "execution_count": null,
      "metadata": {},
      "outputs": [],
      "source": []
    },
    {
      "cell_type": "code",
      "execution_count": null,
      "metadata": {},
      "outputs": [],
      "source": []
    },
    {
      "cell_type": "code",
      "execution_count": null,
      "metadata": {},
      "outputs": [],
      "source": []
    },
    {
      "cell_type": "code",
      "execution_count": 9,
      "metadata": {},
      "outputs": [
        {
          "ename": "TypeError",
          "evalue": "unsupported operand type(s) for -: 'list' and 'float'",
          "output_type": "error",
          "traceback": [
            "\u001b[0;31m---------------------------------------------------------------------------\u001b[0m",
            "\u001b[0;31mTypeError\u001b[0m                                 Traceback (most recent call last)",
            "Cell \u001b[0;32mIn[9], line 9\u001b[0m\n\u001b[1;32m      5\u001b[0m \u001b[38;5;66;03m# Assuming mesgrid is a meshgrid\u001b[39;00m\n\u001b[1;32m      6\u001b[0m mesh \u001b[38;5;241m=\u001b[39m np\u001b[38;5;241m.\u001b[39mmeshgrid(x, y)\n\u001b[0;32m----> 9\u001b[0m samples \u001b[38;5;241m=\u001b[39m \u001b[43mpdf_bimodal\u001b[49m\u001b[43m(\u001b[49m\u001b[43mmesh\u001b[49m\u001b[43m)\u001b[49m\n\u001b[1;32m     11\u001b[0m \u001b[38;5;66;03m# Set figure size for wider subplots\u001b[39;00m\n\u001b[1;32m     12\u001b[0m fig, axs \u001b[38;5;241m=\u001b[39m plt\u001b[38;5;241m.\u001b[39msubplots(\u001b[38;5;241m1\u001b[39m, \u001b[38;5;241m2\u001b[39m, figsize\u001b[38;5;241m=\u001b[39m(\u001b[38;5;241m12\u001b[39m, \u001b[38;5;241m6\u001b[39m), sharey\u001b[38;5;241m=\u001b[39m\u001b[38;5;28;01mTrue\u001b[39;00m)\n",
            "Cell \u001b[0;32mIn[3], line 9\u001b[0m, in \u001b[0;36mpdf_bimodal\u001b[0;34m(x)\u001b[0m\n\u001b[1;32m      7\u001b[0m sigma1 \u001b[38;5;241m=\u001b[39m \u001b[38;5;241m1.0\u001b[39m\n\u001b[1;32m      8\u001b[0m sigma2 \u001b[38;5;241m=\u001b[39m \u001b[38;5;241m0.5\u001b[39m\n\u001b[0;32m----> 9\u001b[0m pdf \u001b[38;5;241m=\u001b[39m \u001b[38;5;241m0.5\u001b[39m\u001b[38;5;241m/\u001b[39m(np\u001b[38;5;241m.\u001b[39msqrt(\u001b[38;5;241m2\u001b[39m\u001b[38;5;241m*\u001b[39mnp\u001b[38;5;241m.\u001b[39mpi\u001b[38;5;241m*\u001b[39msigma1\u001b[38;5;241m*\u001b[39m\u001b[38;5;241m*\u001b[39m\u001b[38;5;241m2\u001b[39m))\u001b[38;5;241m*\u001b[39mnp\u001b[38;5;241m.\u001b[39mexp(\u001b[38;5;241m-\u001b[39m\u001b[38;5;241m0.5\u001b[39m\u001b[38;5;241m*\u001b[39m((\u001b[43mx\u001b[49m\u001b[38;5;241;43m-\u001b[39;49m\u001b[38;5;241;43m1.5\u001b[39;49m)\u001b[38;5;241m*\u001b[39m\u001b[38;5;241m*\u001b[39m\u001b[38;5;241m2\u001b[39m)\u001b[38;5;241m.\u001b[39msum()\u001b[38;5;241m/\u001b[39msigma1\u001b[38;5;241m*\u001b[39m\u001b[38;5;241m*\u001b[39m\u001b[38;5;241m2\u001b[39m)  \u001b[38;5;241m+\u001b[39m  \u001b[38;5;241m0.5\u001b[39m\u001b[38;5;241m/\u001b[39m(np\u001b[38;5;241m.\u001b[39msqrt(\u001b[38;5;241m2\u001b[39m\u001b[38;5;241m*\u001b[39mnp\u001b[38;5;241m.\u001b[39mpi\u001b[38;5;241m*\u001b[39msigma2\u001b[38;5;241m*\u001b[39m\u001b[38;5;241m*\u001b[39m\u001b[38;5;241m2\u001b[39m))\u001b[38;5;241m*\u001b[39mnp\u001b[38;5;241m.\u001b[39mexp(\u001b[38;5;241m-\u001b[39m\u001b[38;5;241m0.5\u001b[39m\u001b[38;5;241m*\u001b[39m((x\u001b[38;5;241m+\u001b[39m\u001b[38;5;241m1.0\u001b[39m)\u001b[38;5;241m*\u001b[39m\u001b[38;5;241m*\u001b[39m\u001b[38;5;241m2\u001b[39m)\u001b[38;5;241m.\u001b[39msum()\u001b[38;5;241m/\u001b[39msigma2\u001b[38;5;241m*\u001b[39m\u001b[38;5;241m*\u001b[39m\u001b[38;5;241m2\u001b[39m)\n\u001b[1;32m     10\u001b[0m \u001b[38;5;28;01mreturn\u001b[39;00m pdf\n",
            "\u001b[0;31mTypeError\u001b[0m: unsupported operand type(s) for -: 'list' and 'float'"
          ]
        }
      ],
      "source": [
        "\n",
        "\n",
        "# Define x and y\n",
        "x = np.linspace(-6, 6, 1000)\n",
        "y = np.linspace(-6, -6, 1000)\n",
        "\n",
        "# Assuming mesgrid is a meshgrid\n",
        "mesh = np.meshgrid(x, y)\n",
        "\n",
        "\n",
        "samples = pdf_bimodal(mesh)\n",
        "\n",
        "# Set figure size for wider subplots\n",
        "fig, axs = plt.subplots(1, 2, figsize=(12, 6), sharey=True)\n",
        "\n",
        "# plot\n",
        "colors = ['#D81B60', '#FFC107']\n",
        "# Assuming len(samples_chain_list) is always 2\n",
        "for j in range(2):\n",
        "        axs[j].plot(x, samples, color=colors[j], label='Dimension = ' + str(j))\n",
        "        axs[j].set_xlabel('x', fontsize=15)\n",
        "        axs[j].set_ylabel('PDF', fontsize=15)\n",
        "        axs[j].set_title('Dimension = ' + str(j), fontsize=15)\n",
        "        axs[j].legend()\n",
        "\n",
        "# Adjust layout to prevent overlap\n",
        "plt.tight_layout()\n",
        "plt.show()\n"
      ]
    },
    {
      "cell_type": "code",
      "execution_count": null,
      "metadata": {
        "id": "Sdco1uHyYRCj"
      },
      "outputs": [],
      "source": [
        "# YOUR CODE HERE"
      ]
    },
    {
      "cell_type": "markdown",
      "metadata": {
        "id": "SBWddiutdVfP"
      },
      "source": [
        "Usage of AI: *COMMENT HERE*"
      ]
    },
    {
      "cell_type": "markdown",
      "metadata": {
        "id": "N8Dx6TFFRqBf"
      },
      "source": [
        "### 3.3 Conditional independence and reparametrization (4 points)"
      ]
    },
    {
      "cell_type": "markdown",
      "metadata": {
        "id": "LD37nxr1TqL-"
      },
      "source": [
        "*Topics: Independence and Conditional independence*\n",
        "\n",
        "**Reading material: Murphy 10.1.2**"
      ]
    },
    {
      "cell_type": "markdown",
      "metadata": {
        "id": "89Kk7KltEnCK"
      },
      "source": [
        "1. Reparametrization (2 points). In class we introduced the KL divergence\n",
        "$$\n",
        "D_{KL}(q \\mid p) \\equiv \\int dx\\; q(x) \\ln\\frac {q(x)}{p(x)}\n",
        "$$\n",
        "Show that it is reparametrization invariant, if we replace $x$ with another random variable $y = f(x)$, where $f(x)$ is strictly monotonic and differentiable.  Start by quoting $q(y)$ and $p(y)$ in terms of $q(x)$ and $p(x)$."
      ]
    },
    {
      "cell_type": "markdown",
      "metadata": {
        "id": "UoXqA2goU-T5"
      },
      "source": [
        "YOUR SOLUTION GOES HERE!"
      ]
    },
    {
      "cell_type": "markdown",
      "metadata": {
        "id": "nxf-zIJ6FM6B"
      },
      "source": [
        "2. Conditional independence (2 points). Consider the graphical model defined by $p(x, y, z) = p(x \\mid y) p(y \\mid z) p(z)$. Show explicitly, by using the relevant definitions, that\n",
        "- $x$ and $z$ are conditionally independent given $y$\n",
        "- $z$ and $x$ are conditionally independent given $y$"
      ]
    },
    {
      "cell_type": "markdown",
      "metadata": {
        "id": "tCTJiRe5VHQm"
      },
      "source": [
        "YOUR SOLUTION!"
      ]
    },
    {
      "cell_type": "markdown",
      "metadata": {
        "id": "1311xRyDK3iF"
      },
      "source": [
        "Usage of AI: *COMMENT HERE*"
      ]
    },
    {
      "cell_type": "markdown",
      "metadata": {
        "id": "I1MDL1Cj9_GC"
      },
      "source": [
        "## Chapter 4: Linear regression (10 points)\n"
      ]
    },
    {
      "cell_type": "markdown",
      "metadata": {
        "id": "xgZwm8b62aP8"
      },
      "source": [
        "### 4.1  Regularized Regression (10 points)\n"
      ]
    },
    {
      "cell_type": "code",
      "execution_count": null,
      "metadata": {
        "id": "Am4vBMCC1csW"
      },
      "outputs": [],
      "source": [
        "import numpy as np\n",
        "import math\n",
        "import matplotlib.pyplot as plt\n",
        "#plt.style.use(['dark_background']) # if using dark background, easier to see the plots"
      ]
    },
    {
      "cell_type": "markdown",
      "metadata": {
        "id": "PdLfRD9yPE5O"
      },
      "source": [
        "$\\newcommand{\\bPhi}{\\mathbf{\\Phi}}$\n",
        "$\\newcommand{\\bx}{\\mathbf{x}}$\n",
        "$\\newcommand{\\bw}{\\mathbf{w}}$\n",
        "$\\newcommand{\\bt}{\\mathbf{t}}$\n",
        "$\\newcommand{\\by}{\\mathbf{y}}$\n",
        "$\\newcommand{\\bm}{\\mathbf{m}}$\n",
        "$\\newcommand{\\bS}{\\mathbf{S}}$\n",
        "$\\newcommand{\\bI}{\\mathbf{I}}$\n",
        "\n",
        "*Topics: Regularized regression*\n",
        "\n",
        "**Reading Material: Ref: Murphy 7.5**\n",
        "\n",
        "1. (2 points) $$\\\\ $$\n",
        "Write a method `gen_sine(N)` that generates toy data like in the figure below. The method should have a parameter $N$, and should return $N$-dimensional vectors $\\bx$ and $\\bt$, where $\\bx$ contains evenly spaced values from (0,1), and the elements $t_i$ of $\\bt$ are distributed according to\n",
        "$$t_i \\sim \\mathcal{N}(\\mu_i, \\sigma^2),$$\n",
        "with the mean given by $\\mu_i = \\sin( 2 \\pi x_i)$ and the standard deviation $\\sigma=0.25$. Here $x_i$ is the $i$-th element of $\\bf{x}$. You can make use of `np.random.normal()`.\n",
        "\n",
        "Test your function by generating a plot similar to the one below:\n",
        "\n",
        "![sine.png](data:image/png;base64,iVBORw0KGgoAAAANSUhEUgAAAXwAAAD4CAYAAADvsV2wAAAABHNCSVQICAgIfAhkiAAAAAlwSFlzAAALEgAACxIB0t1+/AAAADh0RVh0U29mdHdhcmUAbWF0cGxvdGxpYiB2ZXJzaW9uMy4xLjMsIGh0dHA6Ly9tYXRwbG90bGliLm9yZy+AADFEAAAgAElEQVR4nO3deVxVZf7A8c9lUXHFXeCSiBgpKlqgGGluiWmRleNSM+bPEittMbOYpkwtE6uZacqyoUwtJ5dKwSm1NKOFUETR1EzJlcUFF3BDZDm/P+5AIHflnrt/369Xr1dyD+c85wLf89zv8zzfR6MoioIQQgi35+XoBgghhLAPCfhCCOEhJOALIYSHkIAvhBAeQgK+EEJ4CB9HN8CYNm3aEBIS4uhmCCGEyzh69ChnzpzR+5pTB/yQkBCysrIc3QwhhHAZUVFRBl+TlI4QQngICfhCCOEhJOALIYSHUCXgT5o0iXbt2tG9e3e9r6elpdGiRQt69epFr169mDt3rhqXFUIIYQFVBm0nTpzItGnTmDBhgsFj+vfvz5dffqnG5YQQQtSDKj38AQMG0KpVKzVOJYQQwkbslsPPyMggMjKSO++8k3379hk8Ljk5maioKKKioigsLLRX84QQwu3ZZR7+zTffzLFjx2jatCnr169n1KhR5OTk6D02ISGBhIQEwPh8UmF/Kdn5vPH1AQqKSgj092NmXDijegc5ullCCDPZpYffvHlzmjZtCsCIESMoKyszuBJMOKeU7Hz+umYP+UUlKEB+UQl/XbOHlOx8RzdNCGEmuwT8kydPUrXPSmZmJpWVlbRu3doelxbognVs0hY6JX5FbNKWegXpN74+QElZRa2vlZRV8MbXB9RqphDCxlRJ6YwfP560tDTOnDmDVqtlzpw5lJWVAfDoo4/y+eefs2jRInx8fPDz82PlypVoNBo1Li1MqOqZVwXrqp45YFY6piqNk19Uovf1AgNfF0I4H40zb3EYFRUltXSsFJu0RW+wDvL3Iz1xsNHvvf5hoY855xFC2I+xuCkrbd2coR64OT1zfWmcmvx8vZkZF17vtgkh7EsCvpsL9Pez6Os1GXsoBPn7Mf++HjJLRwgXIgHfzc2MC8fP17vW18ztmRt6KFSlcSTYC+FaJODbgBqzYtQyqncQ8+/rQZC/Hxos65lb87AQQjgfp94AxRVZOyvGFkb1DqrXtau+RxZbCeEeJOCrzNh8dWcOlIZW0db3YSGEcD4S8FVmzawYR3HGTyVCCPVJDl9l1syKcRRZRSuEZ5CArzJXHOh0xU8lQgjLScBXmTWzYhzFFT+VCCEsJzl8G7DnQKcaJYtnxoXXKaHg7J9KhBCWk4DvwtQabJXpl0J4Bgn4LkzNKaAy/VII9yc5fBcmg61CCEtIwHdhMtgqhLCEpHScQH0HXp1lsNXWe93KXrpCqEMCvoNZM/DqDIOttl6lK6uAhVCPBHwHs3bg1dGDraZW6Vr7MHLV2kRCOCMJ+A6m5sCrI1IfhtpZ1RO3tmcuA9NCqEcGbR1MrYHXqtRHflEJCn8EWFvX4jfUTm+NRpX6PDIwLYR6JOA7mFq1dxxVAM1Q+ysURe/xlvbMXbE2kRDOSgK+g6lVe8dRqQ9D7Q9SqWfuirWJhHBWksN3AmoMvAb6+5GvJ7jbI/VhqP1qTRl19MC0EO5CevhuwtlSH9IzF8L5qNLDnzRpEl9++SXt2rVj7969dV5XFIWnnnqK9evX07hxY5YuXcrNN9+sxqXF/zjDnHx9bZIAL4TzUCXgT5w4kWnTpjFhwgS9r2/YsIGcnBxycnLYtm0bjz32GNu2bVPj0i7LFlMoJcAKIYxRJeAPGDCAo0ePGnw9NTWVCRMmoNFoiImJoaioiBMnThAQEKDG5V2O06werSiFK3lw7RxUXoPKMtB4QYOWuv8atgPvBvZrjxDCpuwyaJufn09wcHD1v7VaLfn5+XoDfnJyMsnJyQAUFhbao3l255DVo5ePQ+FPcDYLzmXBxQNw9bTx79F4QZNQaNEV/HtC2/7QNhZ8m9qmjUIIm7JLwFf0zMnWaDR6j01ISCAhIQGAqKgom7bLUewyhVJR4Ow2yF0DBeuheJ/u696NwL8XBMVD4xugSTA0aA3eDcGrASjlcO08lJ7T9f4vHoDi/VCwAZR5oPGGNjEQPBpuGA2Nteq1WQhhU3YJ+Fqtltzc3Op/5+XlERgYaI9LOyWbTqEsOQlHlsHhpXDhN/DyhbYDIHQSdBgCLSLAqx4/9rJLcCYDTqdB/lewc7ruv3YDoMvjoL1X0j9CODm7TMuMj4/n448/RlEUtm7dSosWLTw2fw82mkJ54SBsS4DUjrArERq2gb4fwv1nYMhm6PoMtIysX7AHXRon4A6InAcjdsFdB6DnK7pPAenjYF0I7HkFrhXV/x6EEDalSg9//PjxpKWlcebMGbRaLXPmzKGsrAyARx99lBEjRrB+/XrCwsJo3LgxS5YsUeOyLkvVKZQXD8EvL8KxVbqUTOgkuGk6NL9R5VZfp/mN0P1FiHgBCjbCwYWwZxbX9v2dZefu5e28ETRv3trhU0OFEH/QKPoS7E4iKiqKrKwsRzfDOV09A/tehZz3QOML4U/p/vNrb/YprJkaqu97W1zdR8UvsxnaLINz5c154+QE1l0czrz7eknQF8JOjMVNCfiuRlF0+fnsZ6GsCDo/Aj1mg59lKbLrp4aCLq00/74egPFPH4a+t5GvF+evlNHDL4cXAz6kb9N97LnSmXcuPEXyM09YddtCCPNIwHcDKdn5rPj2W55q/ndubfoLZ/z60GbQR+AfUa/zxSZt0Ttw7O/nS2l5pd4HQVXQN/S9tSnE+//ACwGLaedzHq+bntLl/30a16u9QgjzGIubUkvHBaTszCN7ywKWdkggotEhEvOmMWDny6Qc8a/3OQ1NAS0qKTNZZtm86aMa1hXdzpAD77P20t1w4C2O/+dG7p/7JrFJW2xep18IUZcEfGd3tZDWO8cyJ+Adtl/uxh0H32PlueFcKVOsqnVv6RTQmkHe0Pf6+/nWmX1U6d2M7PavMvHYfDRKOas7P8+oBkt5Yc1uCfpC2JkEfGd2Zits6EWfRpnMLZjMQ0fmcLq8dfXL1izUMjQ1tGVjX73H1wzyhr53dnyE3gqZ3/1WSFpxD4YffIf/FvVnZodPeF/7Ih9uyqh3+4UQlpN6+M5IUeD392HHU9A4mCmn3iXtTN1ZLtYs1DI0NRRM17E3Na30+hk501ftAuByZWOezn2WjMs9mRP4bxY3msL3PzfkhR+aOE2FTyHcmQR8G7N46mPFNdj+KBxeAoEj4dZPGBV8hW0qbSZSk7HqmqbabEllztorizWsOhfH7is3ktzxVWIO3080T5LCIMcVkRPCQ8gsHRsyNvVRb0C7dh5+uE9XvqD7LOjxsq6AGbYpp2wv+t4HAH/vCyzqOJ9+Tffw/un7WXDyIRS8CPL3Iz1xsINaK4RrMxY3pYdvQxZVxbx0GNJGwKUj0G85dHqw1suuXOu+Zgqo5nTOoorm/OXwK7wcmMyj7b4gsEEhz+ZOp8BIdQZXfvAJ4WgS8G3I7KqY53fBd3FQWQ6DN0O7/nZonX1VPbA6JX5FzY+U5fjwUsFj5Ja154WAJbTxKWL2+Vf0nsNp9hEQwkXJLB0bMjSoWuvrp3+EzbeDV0MY9rNbBvua9L8nGpIL7+fp4zOIbrKPz8ISoeRUnaOMfWISQpgmAd+GTFbFzF8P3w0Dv0C4Ix2amzcIm5KdT2zSFjolfuVyi5j0vSdVOyOklQ7jyYJX8C05zLHV0WzMrJ2HtMs+AkK4MUnpqMRYbrnq6y38fNFodNMUM374iPltX8GrVU8YuAEatTX7Oq6c1jA1HXTD2Z6cKZnDR53m0O3Xu/lGWcuwvjGA+fsISJ5fCP1klo4KzJmNU/OYO5pv5d0bkthf2pncyLXcFdW11rmMBStDdWxcfWbL9fcV6XeAjzvNooQmdLhvKzTtZPH7bOgYIdyZ1NKxMXNyy1XHDGuewXsd57OvpDN/PjSX+ZtPVB9TFazyi0pQ0PXep6/aRUiN1I27pjWub//uknDGH55PI67At4Ph8nFG9Q7Su5K3ZiCXPL8QhklKRwXmBOGCohIGNsti4Q0L2HMljIeOzOViZRMu1ThGX7Cq+vhVlbrxb+zL+Stlda6lyvaIDqQvXfPr1VCeKXyDj/wSdUF/6Pcmp6ca+lnkF5UQm7RF0jvCo0kPXwXmzMYZ0f4g73d8jYOlHZl4ZA4XK5vUOcZUL72krAJFQf3tEZ2AoQHu+MF3w6CNcPUUbBkCV08bPY+xB1/VQ9OVBrmFUJMEfDOYmhVjcjbO2e28FTCLvLL2TDg8lwuVTeseg3m99OKSMpNpDVdkNF3TJkY3sH35uG5xWtkFg+fR97OoSdI7wpNJSscEc2bFGC0mVvwbfDccX7+2/B66Gr9TF9AYGJCdGReutwRBTYH+fi696tYYo/fV7ja47XP44R74YRQMXA/ejapfrjnY3cLPt3r3LX1cfbxDiPqSgG+CueUR9AarKwWQNhy8fGDwJoY368zwPoavdX0JAg3UWpXqDqkbqwSNgJilkPFnSH8AbvsMvLzrPJSLSsqqSz2743iHEPUlAd+Ees+KuVYMaXdC6VkYmgbNOpt1vZoPDplPrkenB+HaWV3p6B1PQdQ7Bh/KDX288PP1Vr3KqBCuSgK+CeYu9qml4hr8eB8U/woDv4JWt9Tr2u6aurFa+JNwJRf2vwlNO1FQdJPew4pLyvjn2F7y0BTifyTgm6Avr260l6gounr2p7ZAzDIIGGanlroXk59uei2Ay8cg+1keDJjF8hN1c2XuPN4hRH1IwDfB1O5OdfyapNu8pPssCJ1gx5aaxxXSRGaVj9B4Qb+PoeQEczQLOHR5PhkXbqw+h6RuhKjL40srqBoAj62G9LHQ8QG4dTloNKa/x45cpeyAReUjSs/C1zFcLSnigeNvk322udM+yISwB5uXVti4cSPh4eGEhYWRlJRU5/WlS5fStm1bevXqRa9evfjwww/VuKzV9JUyqPfCnLPbYetD0DYWYhY7XbAH1yk7YNFAecPWcPt/aeRVxpqI+Rx5ZQDpiYMl2Auhh9UpnYqKCqZOncqmTZvQarVER0cTHx9Pt27dah03duxYFi5caO3lVGUqAJrd879SoJsb3qg99F9ba364M3GVOjwWD5S3uEk3RTPtTt10zQEp4GV48ZUQnsrqHn5mZiZhYWGEhobSoEEDxo0bR2pqqhptszljdVfM7vlXXIUf74WyYhiwzuwyx45g1oYsTsDkymV9Au6AW96Ggi9hzywbt1AI12R1wM/Pzyc4OLj631qtlvz8uoHxiy++oGfPnowePZrc3FyD50tOTiYqKoqoqCgKCwutbZ5RhgKdt0ZjXupDUWBbApzNhH6fQMuetmqqKuoVSB3AnKqYenV5DDpPhn2vwfHP6rzsyhvHCKEGq1M6+sZ8Ndflr++++27Gjx9Pw4YNef/993nooYfYsmWL3vMlJCSQkJAA6AYfbMnQlEtDpQ3qfCI48DYc/QR6zIHge23ZVFVYPOPIgeo1nVKjgaiFULwPMiZCsxuhZSTg+hvHCKEGq3v4Wq22Vo89Ly+PwMDAWse0bt2ahg0bAjB58mR27Nhh7WVVYagnGWRO6uPU95A9A7T3QPcX7dNgFYzqHUR64mCOJI10z8FN7wbQ/wto4K8bVyk9C7jOgLUQtmR1Dz86OpqcnByOHDlCUFAQK1eu5NNPP611zIkTJwgICABg3bp1dO3aVd+pHMJQT9LoYqsreZA+BpqF6eaCa6ToqFPx66AbPN/cH35+EG7/ymUGrIWwJasDvo+PDwsXLiQuLo6KigomTZpEREQEs2bNIioqivj4eN5++23WrVuHj48PrVq1YunSpSo03XaMpj4qSuHH+6H8CgxJA9/mjm2sAa6wwMqm2vSBqHcgcwrsnUug/+2Wl8gQws14/MIri22fCjnv6dIGwfc5ujV6ucoCK5tTFNj2MBxeQoZ2KZM2tZf3RLg92dNWLUc/1QX7m2Y4bbAHyVdX02gg6l1o2Zt+p57iX3c1d7uNY4SwhNTSMVfRPtg2Gdr2h17zHd0aoyRfXYOPn+7T2IabGXbuCYbNTHfahXFC2Jr08M1Rdgl+Gg2+zeC2VeDl6+gWGeUqC6zspmkn6LcMzu+Enc84ujVCOIwEfFMUBbY/BhcPQuwK8AtwdItMcpUFVnaljYeuz0LOIji6wtGtEcIhJOCbcvgjOLocus+G9oMc3Rqz1HulqruLfE1X3C5zMlzwsPEMIZAcvnFFeyBrGnQYChEvOLo1FpGNP/Tw8oXYlbChF/w0BoZt1eX4hfAQ0sM3pOwS/PQnaNASbv2PVF90F421EPMxFP2iWykthAeRgG/IjifgwkFdsG/UztGtEWoKGgFdZ+ry+XqKrAnhriTg63NkORxeCt1fcpm8vbBQ5DxoHQPbHoFLhx3dGiHsQgL+9S4c1G1C3ra/LuAL9+Tlq5t1hUa3aUplmaNbJITNScCvqaIU0seBV8P/5e1lTNutNQ2Bvh/A2W3wi2yaItyfBPyadr8A57Mh5iNoEmz6eOH6bviTbtOUXxfAyc2Obo0QNuXWXViLKkYWbITf/gFdHtfVuBee45a3oPAn+PkvMGK3DNILt+W2PfyqipFm7Utbcgq2PgQtukPvN+3eVuFgPo118/OvnYetk3Srq4VwQ24b8M2uGKlUwtaJUHaBb1u9ReybGbLnqYdJyc4n9t9nmJ07EQq+YveWeY5ukhA24bYpHbMrRh54B05sZHf7eUxbXyZ7nroQNTZ5qbl3wFLuYkCzHcRWzmVLRgyD+w21UcuFcAy37eGbVTHy/C+w6zkIupvHt/eVGvIuxKKUnRG1PwlqmJn7NBcqmhByYDKUe2A5aeHW3Dbgm6wYWV4CP4+HBq2g72IKiq7qPY9H1pB3AdZu8pKSnU9s0pY62x6erfBnRu50QhschV3Pq9VcIZyC2wZ8YxUjU7Lz+WLxOCj+lenHp5Oy/5rUkHcx1mzyUvPTgT4/XLqFVRfuh4PvQP56q9ophDNx2xw+6K8YmZKdz9fffMii4HV8WHgPa09GsHHNHu6/JYgvduTX2fPUo2vIO7FAf796b0qu79NBTX6+3vhFL4BTB2Hb/8GIPaTsL/PsTeGFW3DbHr4hH27K4JWAf7K/JITXT04EdKmA734rlBryLsSaTV6MfQqo+rnH39IZbv0UrhVz8psH+OuaX6weLxDC0dy6h1+HovBM8wU087rC+OOvcU35Y6vCgqISqSHvQqp+TvXpdRv6dBDk70d64uA/vuDfHXq/QYcdT3J/8xtZfnZk9UtV4wXy+yJciWcF/JxFDG6excv5U8gp7VjrJcnVu576PqBnxoVXT8WsYvDTwY3TSPtuGS8GLCbjUk8Olf5RckMG9IWr8ZyUTvF+yJ7BqSYDWX2hdukEydV7Fou2gNRo+PuFRC5XNuJfN7yJr+aPqprSSRCuxjN6+BXX4OcHwacp7Yd9yvwbKmUAzsNZ8ung4Tv68dI303kveA4z2i8n6eT/SSdBuCRVAv7GjRt56qmnqKio4JFHHiExMbHW66WlpUyYMIEdO3bQunVrVq1aRUhIiBqXNs+eWboqmANSwC+AUb1l9awwn+53ZTIpmVkktF3DPqUfQwaOk98h4XKsDvgVFRVMnTqVTZs2odVqiY6OJj4+nm7dulUfs3jxYlq2bMnvv//OypUref7551m1apW1lzbPqTT49XVdCVyVq2CqsbRfuIZRvYOgxyrY0Jt3mrwFEZNUOa/8DgkAKiugslRXyM+GrA74mZmZhIWFERoaCsC4ceNITU2tFfBTU1OZPXs2AKNHj2batGkoioJGo7H28sZdK4KMCdAsjP/6zCQpaYvVf1hVf6D5RSVogKq6ilJ7xwP4NNFtjPPNrbB9KsR+avRwU8G8Zh0fkN8hV2b1g/u3N3Xbqt7xEzRsbbN2Wj1om5+fT3DwHzMXtFot+fn5Bo/x8fGhRYsWnD17Vu/5kpOTiYqKIioqisLCQusa5+ULQXeR1vqfPJdyyOp51Nev0Ly+iK7U3vEAraOhx2w4tgKO/MfgYebU+rG2PIRwDlbXdTq3E355SVeevUErm7bV6oCv6Kkdfn3P3ZxjqiQkJJCVlUVWVhZt27a1rnE+TSD6Pf72g58qf1imVmiCTNXzCN0SoW0sZD0Ol47qPcScYG5NeQjhPKx6cJdfgZ8fgIZtoc+/wcZZD6sDvlarJTc3t/rfeXl5BAYGGjymvLyc4uJiWrWy7ZOsJrX+sMw5XqbqeQAvb+i3XLdRSsYEXf71Oub8zkn9JvdgVXzJfhYuHIB+y6Ch7WOi1QE/OjqanJwcjhw5wrVr11i5ciXx8fG1jomPj2fZsmUAfP755wwePNj2+fsa1PrDMnW8TNXzIE1DIPpdKPwR9r9e52VzfuesKQ8hnEe940v+V5CzCG56BjrYZ+8FqwO+j48PCxcuJC4ujq5duzJmzBgiIiKYNWsW69atA+Dhhx/m7NmzhIWF8Y9//IOkpCSrG24Jtf6w9J2n6rEltXfcQ1XZZGO7nlUf8++WbL48kMrds+BsVq1jzPmds2gBmHBa9YovJadg6/+Bf0+IfM3GLfyDRtGXYHcSUVFRZGVlmT7QDGpNf5NpdO7r+lkzoPvDrRmErz+mufclNt74BM2aNKPZqF9040Y1zie/K57Bop+1osD3d8HJb2H4DvCPULUtxuKmxwR8IUzRtyEK1C6qpu+YmCa/8Gno3/DqMlk38CaEMQffg6ypcMu/IPxJ1U9vLG56RmkFIcxgzuCbvmO2Xu7Jvwvv5zFNMgTcCcGjbNZG4Vqu7/nPGejF0GMzIGA43PiE3dvjOcXThDDBnME3Q8esvPoItLwZMh+BkhM2aZ9wLdfPzy8svkDgrw9TSmOIWWLzKZj6SMAX4n/MGXwzNHB/rKic8fuepPzaZciYCEqlHVosnNn18/Of7fAx3RodZtbJ6eDXwSFtkoAvxP+YM2um5jFArfIaGWfaMLdgMpz8Bn57y+7tF86lZvrvtqbZJLRdyydnRrD6RO9ax5kzM0wtksMXogZzyiZXHaNvAPfjwmEMabGT23cnQvtB0Kq3gbMId1e1s1pL72L+HvxPcq4GM+/EpFppQXvXU5IevhD1pH+QV8PTR6bqlsr/PB7KL9u9XcI56NJ/XryufRt/7ws8eXwmGp8mzIwLr+7VP71ql13rKUnAF6KeDA3gNm7WHvp9AhcOwo7pdm6VqC+1UyujegexcmA2d7TYxoKT/8eFRhHMv68HQK0ijPrYqp6SBHwh6snoIG+HwdDtOTj0ARz/3EEtFOayuuKlPkV7iCycCwF3MmvGv0lPHMyo3kFmFWG0VT0lCfhC1JPJQd4ec6FVNGybDJePObStwjjVS1WXl0D6eGjgD/2W1pqCaar3bst6SjJoK4QVjA7yejeA2BWwobduT+UhaeAlf3LOSM1S1SnZ+VRmPs59zfYx/fQCbt9fxqgaY/dVg7n6BNm4BIf08IWwpWadoc/7UJgOe+c6ujXCALUq6qZk57Nl0yLua7aOfxfex9qTEXVSQ4ZSgW+N7VWd9rEVCfhC2FrIA9DpIdj7qm6PZeF01Kqo+8nm73k14C12XbmRN0/+BaibGnJklVT5fCmEPUQthLNbdbsb3bkbGlm5m5tQVVWwtaq6aWUZf/OfCyg8cfw5yhTf6peuTw2Zs97DFiTgC2EPvk0hdhV83Rcy/gID14NGPmA7E6uD8C8vcXOTA0w79hy512qXTnCWXcwk4AthLy0j4Za3YPtjsP8N6Pa8xaeQGvv1Y/P3rWAD/LqAI/4P8u3+QUDtPRWcZRcz6WIIYU9hU+CGP8Huv+kGci1gk7niHsDm79uVPN2nNv+edBr2gVPvYiY9fCHsSaOBPh/AuZ3w01i4M9vsfL6xueLOElCckU3ft8oySB8HFaVw22fg4+ew/Lw5pIcvhJ2l7LvExJyZlF4+zbb/jCBl53Gzvk/NueKWsmdFR7XZ9H3b/aLuk1qfZGh+o/XnszEJ+ELYUVV6Ia1Qy+yCKfT1y+L4jy+aFUDVmituKVdPJdnqfdv6w0ew/3X+c3Y4sSvbu8T7IQFfCDuqmV5YcS6OtecHMq3Ncr5L+9Tk96o1V9xSqpcdsDNbvG/fbEun27En+eVKGHMLElzmISgBXwg7qp1G0PC3/Kn8XhrMrNavwmXjqZ3rF+z4+/nSyNeL6at22TTNYij1kV9U4hLpHdXft/ISOu1/iEpFw+PH/kqp0gBwjYegBHwh7Oj6NMKVSj8ePfYCjbzK4cfRusE/I0b1DiI9cTD/HNuL0vJKzl8ps3maxVjqw1V6tqq9b4oCWVPp0uAQT+fOIK+sfa2X7TGeYg0J+ELYkb70wonKjuwN/hec2w47njLrPPZMs+hrsz2uawtWv2+/vw+Hl7Ck+M+kXYyu87KzLLAyxKppmefOnWPs2LEcPXqUkJAQVq9eTcuWLesc5+3tTY8eusL/N9xwA+vWrbPmskK4LENL+Pv2Hg67fodfF0DraOj8sNHz2HPGTs02G6ryWN+qkvZeRGbV+1aYrnsgB46g5U2v4Vewr9bDw5kWWBliVcBPSkpiyJAhJCYmkpSURFJSEgsWLKhznJ+fH7t27bLmUkK4DYPztHu+qpufv/1xaBEBbWIMnsNQid3re5hqBVVj+/jqu64p9t7LtYq571tNKdn5LNmczgftHuUabdnd9HVG3RwMGi+L3ltnWCWtURRFqe83h4eHk5aWRkBAACdOnGDgwIEcOFD3o1HTpk25dOmSxeePiooiKyurvs0TwmmY/cdeeg6+joaKEojLgsaBBs9XM2CCrodZtYVeVW9cA9T8A686pr6Bxth1LTmnoQdHkL8f6YmD69U2c1ja/pTsfGat3cHS4Oe4ye8oo3L+Tm5lZ4vvV633zRzG4qZVOfxTp04REBAAQEBAAKdPn9Z73NWrV4mKiiImJoaUlBRrLimE3ai12MiieewNW8GAFCi7AD/eb3AQ11CJXai9X+r1vTlr8+1qlfZ11CIyS9v/xte/Mavd29zc5AAzcqdzsDSkXm5hEUEAABLBSURBVO+hs0xtNZnSGTp0KCdPnqzz9Xnz5pl9kePHjxMYGMjhw4cZPHgwPXr0oHPnznqPTU5OJjk5GYDCwkKzryGEmtRMOVi8tN+/B8Qsg59GQ+YUiFlSa4u8KvpSQ7FJW0zul2ptUFWjdEB9UitqMaf9VZ/IhvusYHSrb3nr1Hg2FN9W/bql76EjV0nXZDLgb9682eBr7du358SJE9UpnXbt2uk9LjBQ97E0NDSUgQMHkp2dbTDgJyQkkJCQAOg+mgjhCGrWX6nXH/sN90OP2bBnNrToanZlTXMCiDPMJJkZF643xeEMg55VD/s+DTN5IXgJ64tu5V+nxtc6xtL30JEPuJqsSunEx8ezbNkyAJYtW8Y999xT55jz589TWqr7WHrmzBnS09Pp1q2bNZcVwubU7JHVe2l/91nQcRzs+ivkmpcKNXVOZwmqjtz1yZQ3vj5AsNchFnZM4sDVjszIfQalRqisz3voqFXS17Mq4CcmJrJp0ya6dOnCpk2bSExMBCArK4tHHnkEgP379xMVFUVkZCSDBg0iMTFRAr5wemrWX6n3H7tGA30/0k3T/PlBOJddr2tVJYPstTLXXFWLoY4kjbT5Xq6WuHapgI86zeFKpR+Tjr5MidKo+rX6Ppic5QFn1SwdW5NZOsJR1J5VYdWUvJKT8HUfUMph2FZocoPF1wLsNkvEpZVf4ddPbibE9yhjDi1gb0lY9Uu2nkGkFmNxUwK+EAY4w7zpakX7YFMsNA6CO9Khgb9F3+6oaZAupbICfhqNkpfK1NxZrD//x0paV3o4GoubsgGKEAY4ciMLvQ+bAWvhuzj44V4YtBG8G5p9PmeZJeK0FAWypkFeCppb/sWwrvez21ke9iqSgC+EkzE4JfS+HozquwQy/gwZE+DWT8HLcI2bmpxllojT2jdPVyen2/MQ/iSjsO2KX0eR4mlCqEiNxVpGF+l0ehB6vwHHV+t6pGZmZJ1llog57L671u8fwi8vQacJEDnfttdyMOnhC6EStRZrmUy/dH0WrhbC/td1++H2nGvynIaKtjlbL9buNXaOrYbtUyBgOPT9UO8CN3ciAV8Ilai1WMus9EuvJLh2Fva+Ar7+0PUZk+d15s21q9h1o/b8r3TTXdvEQv8vwMtX3fM7IQn4QqhErYFRs1ahajQQ/b6u5k72DPBqAOHTzL6GU81AqsFug8un0nSlK1pGwu3/BZ/G6p7fSUnAF0Ilag2Mmp1+8fKBW/8DlddgxxPg3QDCEkye31Glic1hl8HlU2mQNhKahsLAjdCghXrndnIyaCuEStQcGK25CnVmXDhvfH1A/yCmly/EroLAEbpCa79/aPLczlK5UR+bDy6f+g7SRkDTEBi8BRq1Uee8LkJ6+EKoxBYDo2b1xr0b6nLQP9wLmZOh4qrR9I4zz8m36eDyyS3w/V26nv3gb8GvvenvcTMS8IVQkdoDo2YPYno30tXRTx+nS+9UlEC3mXrP6exz8m0yuJyXCj+NhWZdYMi30Eh/ZV93JykdIZyYRb1x74Zw2+r/Vdh8Dnb/Te88fVeak6+Kwx/rNpNpGQlD02oFe7vP+Xcw6eEL4cQs7o17+UK/5eDbHPa9BiUF0Ce51pRDV5mTr4rf3oKd06H9EN0nIN+m1S858+C1rUjAF8KJ1WujEC9v3ZRNvyDY87Ku2uZtn9UKdq4wJ98qleW6QH9wIQTfpytDcV3tIbvO+XcSEvCFcGLm9sb1z6ufBX6BupWkm2JhQKpudoqZ7DlX35prXf+9iXdoufviM1DwFdw0A3ot0FtzyJkHr21FAr4QTs5Ub9x4auIRaBwM6WPh62jovwba9Td5TXumO6y51vXf633lMF12P0Jlo+N4RS+CLo8a/F5nH7y2BRm0FcLFmZxXHxgHcZnQoBVsGQIH3zVZdM2ec/WtuVbN7x3cLJMvuzxNe58zzDj9mtFgDx44eI0EfCFcnlmpieY3Qtw26DBMV2XzpzFwrdi6c6rEmmsVFJXgTQXPtP+EjzrN5fi1Dtyd8xYpJyNMfq+zbDtoT5LSEcLFmZ2aaOAPt6+D/X+H3X+Fczsg9lNoE1P/c6rAmmtFtznPX1u8Su8mB1h9bigv5T9GqdKQIDPb6faD19eRHr4QLs6i1ITGS7cga+iPoFToBnOzn9etzq3vOe3Z/iqKAocW8x/to4Q2ymfased4Lu9pSpWGbp+WsYb08IVwcfWaV9+2H4zcAztn6Orq5/8X+n4AbWPrf057tf/CQV3doNNp+La7na3NXyc7/xIa3HxNgQpkE3MhPF3BRl0Nnit5EPJn6P06+AU4ulV1lV2C/W/Cr0ng7adrZ+eHdZ9aRDVjcVPeKSE8XeBwGLkfIl7QbZ343xthz1xdrX1nUFkOvyfDf7vA3jkQfC/ctR/CJkuwt5C8W0II3SrcyHkwch90GKpboZsaoivPYGQ2j01VXIXfP4CvuulSOM06w7AMiF0Bfh0c0yYXJwFfCFEt5Xc/Yn9+grtz3uKn4nBdAbaUINj+OBTts08jLufC3lchtRNkJvDbGQ0JR/9G7I45pOQG26cNbsqqgP/ZZ58RERGBl5eX0Vz7xo0bCQ8PJywsjKSkJGsuKYSwkapVq/lFJewpCePPOS9y/5G3OdZkJBz6CNZ3h6/76qZ1Xj6u7sWvFuqqWm4ZBqkd4ZeXOOUdzsRj8xl+4O98c6Ef+UVX+euaPW5f0dKWrJql0717d9asWcOUKVMMHlNRUcHUqVPZtGkTWq2W6Oho4uPj6datmzWXFsLtOHqfWX0rXndcDOWBPRGkP/0uHF4Cx1ZC9rO6/1p0h3a3Q/vbodUt0Lij3po1el0pgHNZcHY7nNwEZzMBBZp0hO4vQehD3LfwKPnFtefnmypu5uj30NlZFfC7du1q8pjMzEzCwsIIDQ0FYNy4caSmpkrAF6IGZyjVa3TFa6M2uvn73WbCxd8h9ws4+a3uIZDzru5Ar4a6Fb1+gboyDg1agsZbt+du5TW4epris0fgSi4tvC8CoOCFpnUU9Jit26ax1c3VA7EFRfstaqczvIfOzubz8PPz8wkO/iPvptVq2bZtm8Hjk5OTSU5OBqCwsNDWzRPCKThDqV6zV7w2C4Nuz+v+qyyDczuheC9c+A2Kf4Orp3QPhWvnAQW8GoCXL8UVzdl5pil5pf35vTSYPSVhHCkP4+V7oxnVo+49WroC1xneQ2dnMuAPHTqUkydP1vn6vHnzuOeee0xeQN80f41GY/D4hIQEEhISAN18UiE8gTOU6q1f7X1faNNX958JI5K26A3ghgKype1xhvfQ2ZkM+Js3b7bqAlqtltzc3Op/5+XlERgYaNU5hXA3zlCq11ara6vy6vruDwwHZEvbY4/30NXHCGye0omOjiYnJ4cjR44QFBTEypUr+fTTT219WSFcSr161zagdjGx6/Pq+hgLyJa0x9bvoTuMEVg1LXPt2rVotVoyMjIYOXIkcXFxABQUFDBixAgAfHx8WLhwIXFxcXTt2pUxY8YQEWG6dKkQnsRdS/Xqy6vXpGZAtvV7aM89AmxFaukI4eFsmabolPgVhgJMkIulRAzdiwY4kjTS3s0xyFjclGqZQngwW6cpDOXVg/z9SE8cXO/zOiKX7gzjLNaS0gpCeDBbpylsUVe/5opghT8eUrZegesOWyJKwBfCg9l6KqMt8uqOyqW7wziLpHSE8GD2SFOoPfPHkfPtXX1LROnhC+HBXDFNYehh5Eq5dEeRgC+EB3PFNIUrPqSchaR0hPBwrpamsOd+u+5GAr4QwuW42kPKWUhKRwghPIQEfCGE8BCS0hFCqKLm6tcWfr5oNFB0pcxhOXZXr2xpCxLwhRBWu75EQ1FJWfVrjqgq6Q6VLW1BUjpCCKuZqopp76qS7lDZ0hYk4AshrGbOKld77jwlu1/pJwFfCFFvKdn5xCZtMVgCuSZ7roSV1bj6ScAXQtRLzaqVpth7JaysxtVPBm2FEPViLG/v7+BZOrIaVz8J+EKIejGUD9cAu14eZt/G6CGrceuSlI4Qol4kT+56JOALIepF8uSuR1I6Qoh6kTy565GAL4SoN3vmyaVUgvUk4AshnJ6USlCH5PCFEE5PSiWoQwK+EMLpSakEdVgV8D/77DMiIiLw8vIiKyvL4HEhISH06NGDXr16ERUVZc0lhRAeSKaAqsOqgN+9e3fWrFnDgAEDTB773XffsWvXLqMPBiGE0EemgKrDqkHbrl27qtUOIYQwSKaAqsMus3Q0Gg3Dhg1Do9EwZcoUEhISDB6bnJxMcnIyAIWFhfZonhDCBUipBOuZDPhDhw7l5MmTdb4+b9487rnnHrMukp6eTmBgIKdPn+aOO+7gpptuMpgGSkhIqH4gSL5fCCHUYzLgb9682eqLBAYGAtCuXTvuvfdeMjMzzcr7CyGEUI/Np2VevnyZixcvVv//N998Q/fu3W19WSGEENexKuCvXbsWrVZLRkYGI0eOJC4uDoCCggJGjBgBwKlTp7jtttuIjIykT58+jBw5kuHDh1vfciGEEBbRKIpizu5kDhEVFSXTOIUQwgLG4qastBVCCA8hAV8IITyEU6d02rRpQ0hIiNXnKSwspG3bttY3yAV40r2C3K+786T7Vetejx49ypkzZ/S+5tQBXy2eNBbgSfcKcr/uzpPu1x73KikdIYTwEBLwhRDCQ3jPnj17tqMbYQ+33HKLo5tgN550ryD36+486X5tfa8ekcMXQgghKR0hhPAYEvCFEMJDuE3A37hxI+Hh4YSFhZGUlFTn9dLSUsaOHUtYWBh9+/bl6NGj9m+kikzd7z/+8Q+6detGz549GTJkCMeOHXNAK9Vj6n6rfP7552g0GpefymfO/a5evZpu3boRERHBAw88YOcWqsfUvR4/fpxBgwbRu3dvevbsyfr16x3QSnVMmjSJdu3aGSwgqSgKTz75JGFhYfTs2ZOdO3eq2wDFDZSXlyuhoaHKoUOHlNLSUqVnz57Kvn37ah3z7rvvKlOmTFEURVFWrFihjBkzxhFNVYU597tlyxbl8uXLiqIoynvvvef296soinLhwgWlf//+St++fZXt27c7oKXqMOd+Dx48qPTq1Us5d+6coiiKcurUKUc01Wrm3OvkyZOV9957T1EURdm3b5/SsWNHB7RUHd9//72yY8cOJSIiQu/rX331lTJ8+HClsrJSycjIUPr06aPq9d2ih5+ZmUlYWBihoaE0aNCAcePGkZqaWuuY1NRUHnroIQBGjx7Nt99+i+Ki49Xm3O+gQYNo3LgxADExMeTl5Tmiqaow534BXnrpJZ577jkaNWrkgFaqx5z7/eCDD5g6dSotW7YEdHtNuCJz7lWj0XDhwgUAiouLq/fXcEUDBgygVatWBl9PTU1lwoQJaDQaYmJiKCoq4sSJE6pd3y0Cfn5+PsHBwdX/1mq15OfnGzzGx8eHFi1acPbsWbu2Uy3m3G9Nixcv5s4777RH02zCnPvNzs4mNzeXu+66y97NU50593vw4EEOHjxIbGwsMTExbNy40d7NVIU59zp79myWL1+OVqtlxIgRvPPOO/Zupt1Y+rdtKbvsaWtr+nrqGo3G4mNchSX3snz5crKysvj+++9t3SybMXW/lZWVTJ8+naVLl9qxVbZjzs+3vLycnJwc0tLSyMvLo3///uzduxd/f397NVMV5tzrihUrmDhxIjNmzCAjI4O//OUv7N27Fy8vt+iv1mLrOOUW75hWqyU3N7f633l5eXU+9tU8pry8nOLiYqMfrZyZOfcLuu0p582bx7p162jYsKE9m6gqU/d78eJF9u7dy8CBAwkJCWHr1q3Ex8e77MCtub/P99xzD76+vnTq1Inw8HBycnLs3VSrmXOvixcvZsyYMQD069ePq1evGiwO5urM/duuN1VHBBykrKxM6dSpk3L48OHqgZ+9e/fWOmbhwoW1Bm3/9Kc/OaKpqjDnfnfu3KmEhoYqBw8edFAr1WPO/dZ0++23u/SgrTn3u2HDBmXChAmKoihKYWGhotVqlTNnzjiiuVYx516HDx+uLFmyRFEURfn111+VgIAApbKy0gGtVceRI0cMDtp++eWXtQZto6OjVb22WwR8RdGNbnfp0kUJDQ1VXn31VUVRFOWll15SUlNTFUVRlJKSEmX06NFK586dlejoaOXQoUOObK7VTN3vkCFDlHbt2imRkZFKZGSkcvfddzuyuVYzdb81uXrAVxTT91tZWalMnz5d6dq1q9K9e3dlxYoVjmyuVUzd6759+5Rbb71V6dmzpxIZGal8/fXXjmyuVcaNG6d06NBB8fHxUYKCgpQPP/xQWbRokbJo0SJFUXQ/18cff1wJDQ1VunfvrvrvsZRWEEIID+EWOXwhhBCmScAXQggPIQFfCCE8hAR8IYTwEBLwhRDCQ0jAF0IIDyEBXwghPMT/A7DyuVTSar7OAAAAAElFTkSuQmCC)"
      ]
    },
    {
      "cell_type": "code",
      "execution_count": 19,
      "metadata": {
        "id": "9WOK8bCG3WLC"
      },
      "outputs": [
        {
          "data": {
            "text/plain": [
              "Text(0.5, 1.0, 'Test plot')"
            ]
          },
          "execution_count": 19,
          "metadata": {},
          "output_type": "execute_result"
        },
        {
          "data": {
            "image/png": "[encoded data removed]",
            "text/plain": [
              "<Figure size 640x480 with 1 Axes>"
            ]
          },
          "metadata": {},
          "output_type": "display_data"
        }
      ],
      "source": [
        "def gen_sine(n, sigma= 0.25):\n",
        "  \"\"\"\n",
        "    Generate a synthetic dataset of sine wave with noise.\n",
        "\n",
        "    Parameters:\n",
        "    - n (int): Number of data points to generate.\n",
        "    - sigma (float, optional): Standard deviation of the Gaussian noise added to the sine wave.\n",
        "      Default is 0.25.\n",
        "\n",
        "    Returns:\n",
        "    - x (ndarray): Array of shape (n,) containing evenly spaced values from 0 to 1.\n",
        "    - t (ndarray): Array of shape (n,) containing the synthetic sine wave with added noise.\n",
        "  \"\"\"\n",
        "  x = np.linspace(0, 1, n)\n",
        "  t = np.sin(2*np.pi*x) + np.random.normal(scale=sigma, size=n)\n",
        "  return x, t\n",
        "\n",
        "#Test your function\n",
        "x, t = gen_sine(100)\n",
        "plt.scatter(x, t, label='gen_sine function, sigma=0.25')\n",
        "plt.plot(x, np.sin(2*np.pi*x), color='orange', label='sin', linewidth=3)\n",
        "plt.ylim(-1.5, 1.5)\n",
        "plt.xlabel('X')\n",
        "plt.ylabel('Y')\n",
        "plt.legend()\n",
        "plt.title('Test plot')"
      ]
    },
    {
      "cell_type": "markdown",
      "metadata": {
        "id": "AsA6k9jJPa5E"
      },
      "source": [
        "2. (2 points) $$\\\\ $$  Write a method that finds the regularized $M$-th order polynomial for some fixed dataset $\\bx$. Your method should include the regularizer weight $\\lambda$ as a parameter and return a vector $\\bw$ with the maximum-likelihood parameter estimates."
      ]
    },
    {
      "cell_type": "code",
      "execution_count": null,
      "metadata": {
        "id": "uw3PPrK14y5b"
      },
      "outputs": [],
      "source": [
        "def fit_polynomial_reg():\n",
        "  #YOUR CODE HERE\n",
        "  return"
      ]
    },
    {
      "cell_type": "markdown",
      "metadata": {
        "id": "xB4vXaBMPf9O"
      },
      "source": [
        "3. (2 point) $$\\\\ $$  Use your ``` gen_sine``` method to generate 25 datapoints as \"training set\", and another 25 datapoints as \"test set\", under the same conditions as before.  Then, fit polynomials of $M \\in (0,2,3,9, 20)$ for values $\\lambda = 0$ (unregularized case) to your test set. Plot your results, showing the polynomials, the test and the training set simultaneously."
      ]
    },
    {
      "cell_type": "code",
      "execution_count": null,
      "metadata": {
        "id": "dp3zK49d43ej"
      },
      "outputs": [],
      "source": [
        "#YOUR CODE HERE"
      ]
    },
    {
      "cell_type": "markdown",
      "metadata": {
        "id": "9kDQuzAZa5UR"
      },
      "source": [
        "4. (2 points)\n",
        "\n",
        "  For the above fits with $\\lambda=0$ (unregularized case) calculate the reduced chi-squared statistics for each $M$ both for the training and the test set.\n",
        "$$\n",
        "\\chi_\\nu^2 = \\frac{\\chi^2}{\\nu},\n",
        "$$\n",
        "$$\n",
        "\\chi^2 = \\sum_i \\frac{(O_i - C_i)^2}{\\sigma_i^2}.\n",
        "$$\n",
        "Plot the $\\chi^2$ values for both training and test set as function of $M$. What do you observe?"
      ]
    },
    {
      "cell_type": "code",
      "execution_count": null,
      "metadata": {
        "id": "ec5dSTSshPRY"
      },
      "outputs": [],
      "source": [
        "#YOUR CODE HERE"
      ]
    },
    {
      "cell_type": "markdown",
      "metadata": {
        "id": "gRzrKjQTrkp-"
      },
      "source": [
        "*YOUR SOLUTION HERE*"
      ]
    },
    {
      "cell_type": "markdown",
      "metadata": {
        "id": "z8tEUEYJPr9R"
      },
      "source": [
        "5. (2 point) $$\\\\ $$  For $M=9$, repeat the previous exercise, but instead of varying $M$ you now vary $\\lambda\\in (0,10^{-5}, 10^{-3}, 10^{-2}, 100)$. Plot and discuss your results.  What is happening to the coefficents $\\bw$ as you increase $\\lambda$? Which value of $\\lambda$ is most appropriate for the model $M=9$? Why?\n"
      ]
    },
    {
      "cell_type": "markdown",
      "metadata": {
        "id": "h48f1sar4-ck"
      },
      "source": [
        "*YOUR SOLUTION HERE*"
      ]
    },
    {
      "cell_type": "markdown",
      "metadata": {
        "id": "KBq8s3J-d8wl"
      },
      "source": [
        "Usage of AI: *COMMENT HERE*"
      ]
    }
  ],
  "metadata": {
    "colab": {
      "collapsed_sections": [
        "EoCJxznVUVlR",
        "SVBfLKDYUTeg",
        "C8vBFHv0RL4m",
        "N8Dx6TFFRqBf",
        "I1MDL1Cj9_GC"
      ],
      "provenance": []
    },
    "kernelspec": {
      "display_name": "Python 3",
      "name": "python3"
    },
    "language_info": {
      "codemirror_mode": {
        "name": "ipython",
        "version": 3
      },
      "file_extension": ".py",
      "mimetype": "text/x-python",
      "name": "python",
      "nbconvert_exporter": "python",
      "pygments_lexer": "ipython3",
      "version": "3.9.18"
    }
  },
  "nbformat": 4,
  "nbformat_minor": 0
}
